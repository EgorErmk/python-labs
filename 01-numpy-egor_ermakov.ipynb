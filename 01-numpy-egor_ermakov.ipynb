{
 "cells": [
  {
   "cell_type": "markdown",
   "id": "8500c318-5010-4acb-a2b2-166527ee3143",
   "metadata": {
    "tags": []
   },
   "source": [
    "# Numpy Lab Egor Ermakov 6132"
   ]
  },
  {
   "cell_type": "code",
   "execution_count": 1,
   "id": "8bca6030-a107-4af3-b715-395fdf07a18d",
   "metadata": {},
   "outputs": [],
   "source": [
    "import numpy as np\n",
    "import matplotlib.pyplot as plt"
   ]
  },
  {
   "cell_type": "markdown",
   "id": "2ca09afc-b675-446a-9d3d-6b4e080bb3f6",
   "metadata": {
    "tags": []
   },
   "source": [
    "# 1. Numpy functions overview \n",
    " Взять из документации по numpy 12 любых функций / методов / операторов и продемонстрировать из работу в блокноте. Демонстрация каждой функции в своей ячейке. Если снабдите комментарием что делает данная операция — будет вообще прекрасно."
   ]
  },
  {
   "cell_type": "code",
   "execution_count": 2,
   "id": "04b763aa-e332-4085-869c-ebca3d43ed4b",
   "metadata": {},
   "outputs": [],
   "source": [
    "arr = np.empty((10,10)) # create an empty array shaped like an input tuple"
   ]
  },
  {
   "cell_type": "code",
   "execution_count": 3,
   "id": "2947d5ba-84b5-44a5-beba-6bad871917d1",
   "metadata": {},
   "outputs": [
    {
     "data": {
      "text/plain": [
       "(10, 10)"
      ]
     },
     "execution_count": 3,
     "metadata": {},
     "output_type": "execute_result"
    }
   ],
   "source": [
    "np.shape(arr) # returns the tuple containing the shape of the input array"
   ]
  },
  {
   "cell_type": "code",
   "execution_count": 4,
   "id": "0db1e05e-9b40-4fea-8047-f896a54977a2",
   "metadata": {},
   "outputs": [
    {
     "data": {
      "text/plain": [
       "array([[0., 0., 0., 0., 0., 0., 0., 0., 0., 0.],\n",
       "       [0., 0., 0., 0., 0., 0., 0., 0., 0., 0.],\n",
       "       [0., 0., 0., 0., 0., 0., 0., 0., 0., 0.],\n",
       "       [0., 0., 0., 0., 0., 0., 0., 0., 0., 0.],\n",
       "       [0., 0., 0., 0., 0., 0., 0., 0., 0., 0.],\n",
       "       [0., 0., 0., 0., 0., 0., 0., 0., 0., 0.],\n",
       "       [0., 0., 0., 0., 0., 0., 0., 0., 0., 0.],\n",
       "       [0., 0., 0., 0., 0., 0., 0., 0., 0., 0.],\n",
       "       [0., 0., 0., 0., 0., 0., 0., 0., 0., 0.],\n",
       "       [0., 0., 0., 0., 0., 0., 0., 0., 0., 0.]])"
      ]
     },
     "execution_count": 4,
     "metadata": {},
     "output_type": "execute_result"
    }
   ],
   "source": [
    "np.zeros(np.shape(arr)) # create an array of zeros of the input shape"
   ]
  },
  {
   "cell_type": "code",
   "execution_count": 5,
   "id": "3def42a1-304e-44c1-84da-7e8d3f432d34",
   "metadata": {},
   "outputs": [
    {
     "data": {
      "text/plain": [
       "array([0, 2, 4, 6, 8])"
      ]
     },
     "execution_count": 5,
     "metadata": {},
     "output_type": "execute_result"
    }
   ],
   "source": [
    "np.arange(10,step = 2) # create an array of nubmers with a given step"
   ]
  },
  {
   "cell_type": "code",
   "execution_count": 6,
   "id": "50dc632a-5dae-42ee-bcac-73131ed7a927",
   "metadata": {},
   "outputs": [],
   "source": [
    "arr = np.random.normal(0,1,10) # create an array of normally distributed values with given mean and variance "
   ]
  },
  {
   "cell_type": "code",
   "execution_count": 7,
   "id": "a1848222-a2ac-4c97-a9fb-b644ea09f7df",
   "metadata": {},
   "outputs": [
    {
     "data": {
      "text/plain": [
       "(array([0, 2, 4, 7, 8, 9], dtype=int64),)"
      ]
     },
     "execution_count": 7,
     "metadata": {},
     "output_type": "execute_result"
    }
   ],
   "source": [
    "np.where(arr>0) # return the indices of the array that return true to the given condition"
   ]
  },
  {
   "cell_type": "code",
   "execution_count": 8,
   "id": "bc41ffb5-e3c9-473c-bdbe-1aa944584088",
   "metadata": {},
   "outputs": [
    {
     "data": {
      "text/plain": [
       "0.06983369083588195"
      ]
     },
     "execution_count": 8,
     "metadata": {},
     "output_type": "execute_result"
    }
   ],
   "source": [
    "np.mean(arr) # return the computed mean value of the input array"
   ]
  },
  {
   "cell_type": "code",
   "execution_count": 9,
   "id": "72fc6f29-211e-4709-9671-bf064df3354a",
   "metadata": {},
   "outputs": [
    {
     "data": {
      "text/plain": [
       "1.4439792873489743"
      ]
     },
     "execution_count": 9,
     "metadata": {},
     "output_type": "execute_result"
    }
   ],
   "source": [
    "np.max(arr) # return the maximum value of the given array"
   ]
  },
  {
   "cell_type": "code",
   "execution_count": 10,
   "id": "48587878-43c4-469e-846e-a86719e4d0c9",
   "metadata": {},
   "outputs": [
    {
     "data": {
      "text/plain": [
       "0.6983369083588195"
      ]
     },
     "execution_count": 10,
     "metadata": {},
     "output_type": "execute_result"
    }
   ],
   "source": [
    "np.sum(arr) # return the sum of the array"
   ]
  },
  {
   "cell_type": "code",
   "execution_count": 11,
   "id": "5b1cc439-04f0-4663-8323-83d16b5a73dd",
   "metadata": {},
   "outputs": [],
   "source": [
    "arr = np.concatenate((arr,np.zeros(10,))) # concatenates arrays by the given axis"
   ]
  },
  {
   "cell_type": "code",
   "execution_count": 12,
   "id": "46cf3f0e-22ff-4bce-bb06-9898798be1ff",
   "metadata": {},
   "outputs": [
    {
     "data": {
      "text/plain": [
       "array([1.44397929, 2.26062787, 0.09006145, 0.2718438 , 0.15054258,\n",
       "       0.38090075, 0.04654731, 0.2082734 , 1.37731926, 0.38808067,\n",
       "       0.        , 0.        , 0.        , 0.        , 0.        ,\n",
       "       0.        , 0.        , 0.        , 0.        , 0.        ])"
      ]
     },
     "execution_count": 12,
     "metadata": {},
     "output_type": "execute_result"
    }
   ],
   "source": [
    "np.abs(arr) # returns the absolute values of the given array"
   ]
  },
  {
   "cell_type": "code",
   "execution_count": 13,
   "id": "f4a24f0b-6f73-4f79-966c-7f74bebff6ba",
   "metadata": {},
   "outputs": [
    {
     "data": {
      "text/plain": [
       "array([17,  2,  1], dtype=int64)"
      ]
     },
     "execution_count": 13,
     "metadata": {},
     "output_type": "execute_result"
    }
   ],
   "source": [
    "np.bincount(np.abs(arr.astype(np.int64))) # returns the number of elements in array by value"
   ]
  },
  {
   "cell_type": "markdown",
   "id": "eef49b84-d57b-4578-a380-4173a60873f8",
   "metadata": {
    "jp-MarkdownHeadingCollapsed": true,
    "tags": []
   },
   "source": [
    "# 2. Olap Cube creation\n",
    "Сгенерировать OLAP-куб, где фиксируем продажи товаров в розничной сети по магазинам.\n",
    "Оси:\n",
    "    0: ID группы товаров\n",
    "    1: ID магазина\n",
    "    2: день месяца, в котором осуществляются продажи (предположим у нас в OLAP-кубе собраны продажи за месяц).\n",
    "Содержимое ячейки: продажи в тыс. рублей данной категории товаров в данном магазине в данный день.\n",
    "\n",
    "Рекомендуется сгенерировать статистически-правдопододные данные в ячейках.\n",
    "К примеру, будет странно, если продажи одной и той же группы товаров в соседние дни будут представлять из себя \"белый шум\". Пусть будет какой-то правдоподобное распределение на ваш вкус.\n",
    "Также продажи одних и тех же групп товаров в разных магазинах не могут отличаться в сотни и тысячи раз, максимум в разы.\n",
    "Подумайте как это обыграть используя различные функции генерации случайных чисел + \"смекалку\".\n",
    "\"Правильного\" решения тут нет, любое решение подойдёт, если будет понятно, что вы хотя бы попытались применить интеллект )\n",
    "\n"
   ]
  },
  {
   "cell_type": "code",
   "execution_count": 14,
   "id": "27d6c5b0-2ab3-46ec-96cf-de8af435502a",
   "metadata": {},
   "outputs": [],
   "source": [
    "olap_cube = np.empty((3,5,30)) #(wares,cities,days)"
   ]
  },
  {
   "cell_type": "code",
   "execution_count": 15,
   "id": "6a0e1ce3-4f6b-4bd3-9ae5-cd4ee6d8fdb7",
   "metadata": {},
   "outputs": [
    {
     "data": {
      "image/png": "[encoded data removed]",
      "text/plain": [
       "<Figure size 640x480 with 1 Axes>"
      ]
     },
     "metadata": {},
     "output_type": "display_data"
    }
   ],
   "source": [
    "# an array of normaly distriduted data \n",
    "olap_cube[0] = np.random.normal(10,1,(5,30)).astype(np.int64)\n",
    "\n",
    "# an array of the exponentially decaying data portrayed in the picture\n",
    "arr = np.zeros((5,30))\n",
    "for i in range(arr.shape[0]):\n",
    "    arr[i] = plt.hist(np.random.normal(0,10,1000).astype(np.int64),range(31))[0]\n",
    "olap_cube[1] = arr\n",
    "\n",
    "# an array of normally distributed data with greater mean and variance\n",
    "olap_cube[2] = np.random.normal(100,20,(5,30)).astype(np.int64)"
   ]
  },
  {
   "cell_type": "markdown",
   "id": "1b0680fe-c153-4200-b2bd-ca798fce0a38",
   "metadata": {
    "tags": []
   },
   "source": [
    "# 3. Data processing\n",
    "Для получившегося OLAP-куба посчитать суммарные, средние, минимальные и максимальные продажи (на самом деле любые агрегатные функции можно использовать), зафиксировав значения по одной, двум или трём осям:\n",
    "например взять какой-то определённый набор товаров и набор городов или диапазон дней и сагрегировать данные по всем ячейкам из зафиксированного набора.\n",
    "Пример: получить сумму, среднее, минимум и максимум по продажам 10-20 чисел месяца для товаров [1,3,4] по всем городам (или по конкретному набору городов).\n",
    "Попробуйте различные варианты индексации и различные варианты срезов, насколько хватит фантазии.\n"
   ]
  },
  {
   "cell_type": "code",
   "execution_count": 16,
   "id": "8cf38837-28b7-4279-81f0-d49368bde1be",
   "metadata": {},
   "outputs": [
    {
     "data": {
      "text/plain": [
       "array([0., 0., 0., 0., 0., 0., 0., 0., 0., 0., 0., 0., 0., 0.])"
      ]
     },
     "execution_count": 16,
     "metadata": {},
     "output_type": "execute_result"
    }
   ],
   "source": [
    "# min values of sales for all cities throughout all days for all products\n",
    "olap_cube[np.where(olap_cube == olap_cube.min())]"
   ]
  },
  {
   "cell_type": "code",
   "execution_count": 17,
   "id": "c60872f2-39d7-454d-965c-5107cfe07c10",
   "metadata": {},
   "outputs": [
    {
     "data": {
      "text/plain": [
       "array([153., 153.])"
      ]
     },
     "execution_count": 17,
     "metadata": {},
     "output_type": "execute_result"
    }
   ],
   "source": [
    "# max values of sales for all cities throughout all days for all products\n",
    "olap_cube[np.where(olap_cube == olap_cube.max())]"
   ]
  },
  {
   "cell_type": "code",
   "execution_count": 18,
   "id": "ab25c011-0cb4-4879-872b-4e47418efbd7",
   "metadata": {},
   "outputs": [
    {
     "name": "stdout",
     "output_type": "stream",
     "text": [
      "[6.]\n",
      "[0. 0. 0. 0. 0. 0. 0. 0. 0. 0. 0. 0. 0. 0.]\n",
      "[38.]\n"
     ]
    }
   ],
   "source": [
    "# min values of sales for all cities throughout all days for each product\n",
    "for arr in olap_cube:\n",
    "    print(arr[np.where(arr == arr.min())])"
   ]
  },
  {
   "cell_type": "code",
   "execution_count": 19,
   "id": "e2aa0ccf-8b50-4207-a8dc-4ef66cf887ca",
   "metadata": {},
   "outputs": [
    {
     "name": "stdout",
     "output_type": "stream",
     "text": [
      "[13.]\n",
      "[102.]\n",
      "[153. 153.]\n"
     ]
    }
   ],
   "source": [
    "# max values of sales for all cities throughout all days for each product\n",
    "for arr in olap_cube:\n",
    "    print(arr[np.where(arr == arr.max())])"
   ]
  },
  {
   "cell_type": "code",
   "execution_count": 20,
   "id": "e601ae15-dd9d-4648-9911-95b5e6b0b534",
   "metadata": {},
   "outputs": [
    {
     "name": "stdout",
     "output_type": "stream",
     "text": [
      "9.433333333333334\n",
      "18.153333333333332\n",
      "97.45333333333333\n"
     ]
    }
   ],
   "source": [
    "# mean values of sales for each product\n",
    "for arr in olap_cube:\n",
    "    print(arr.mean())"
   ]
  },
  {
   "cell_type": "code",
   "execution_count": 21,
   "id": "de32fdc7-863c-4d4e-9238-c02bbdfebcd2",
   "metadata": {},
   "outputs": [
    {
     "name": "stdout",
     "output_type": "stream",
     "text": [
      "1415.0\n",
      "2723.0\n",
      "14618.0\n"
     ]
    }
   ],
   "source": [
    "# summed values of sales for each product\n",
    "for arr in olap_cube:\n",
    "    print(arr.sum())"
   ]
  },
  {
   "cell_type": "code",
   "execution_count": 22,
   "id": "e3bb3f15-2070-415b-a448-f6e55ab65431",
   "metadata": {},
   "outputs": [
    {
     "name": "stdout",
     "output_type": "stream",
     "text": [
      "9.62\n",
      "1.8\n",
      "97.1\n"
     ]
    }
   ],
   "source": [
    "# mean of the sales for each product from 20th day on\n",
    "for arr in olap_cube:\n",
    "    print(arr[:,20:].mean())"
   ]
  },
  {
   "cell_type": "code",
   "execution_count": null,
   "id": "59e6dd87-94c7-41da-ab60-85020736ddbb",
   "metadata": {},
   "outputs": [],
   "source": []
  }
 ],
 "metadata": {
  "kernelspec": {
   "display_name": "Python 3 (ipykernel)",
   "language": "python",
   "name": "python3"
  },
  "language_info": {
   "codemirror_mode": {
    "name": "ipython",
    "version": 3
   },
   "file_extension": ".py",
   "mimetype": "text/x-python",
   "name": "python",
   "nbconvert_exporter": "python",
   "pygments_lexer": "ipython3",
   "version": "3.10.7"
  }
 },
 "nbformat": 4,
 "nbformat_minor": 5
}
