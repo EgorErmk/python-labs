{
 "cells": [
  {
   "cell_type": "code",
   "execution_count": 1,
   "metadata": {},
   "outputs": [],
   "source": [
    "import numpy as np\n",
    "import pandas as pd\n",
    "import sklearn, sklearn.model_selection, sklearn.neighbors, sklearn.svm\n",
    "import matplotlib.pyplot as plt\n",
    "import seaborn as sns"
   ]
  },
  {
   "cell_type": "code",
   "execution_count": 2,
   "metadata": {},
   "outputs": [],
   "source": [
    "from sklearn.datasets import load_wine\n",
    "\n",
    "data = load_wine(as_frame=True)\n",
    "wine = data.frame\n",
    "X_train, X_test, y_train, y_test = sklearn.model_selection.train_test_split(data.data, data.target, random_state = 42)"
   ]
  },
  {
   "attachments": {},
   "cell_type": "markdown",
   "metadata": {},
   "source": [
    "# 1. Многоклассовая классификация"
   ]
  },
  {
   "attachments": {},
   "cell_type": "markdown",
   "metadata": {},
   "source": [
    "## 1. Прямая оценка accuracy"
   ]
  },
  {
   "cell_type": "code",
   "execution_count": 3,
   "metadata": {},
   "outputs": [
    {
     "data": {
      "text/plain": [
       "0.7111111111111111"
      ]
     },
     "execution_count": 3,
     "metadata": {},
     "output_type": "execute_result"
    }
   ],
   "source": [
    "from sklearn.metrics import accuracy_score\n",
    "\n",
    "model = sklearn.svm.SVC()\n",
    "model.fit(X_train,y_train)\n",
    "model_preds = model.predict(X_test)\n",
    "accuracy_score(y_test, model_preds)"
   ]
  },
  {
   "attachments": {},
   "cell_type": "markdown",
   "metadata": {},
   "source": [
    "## 2. Оценка с кросс-валидацией"
   ]
  },
  {
   "cell_type": "code",
   "execution_count": 4,
   "metadata": {},
   "outputs": [
    {
     "data": {
      "text/plain": [
       "([0.6388888888888888,\n",
       "  0.6111111111111112,\n",
       "  0.6388888888888888,\n",
       "  0.6857142857142857,\n",
       "  0.7428571428571429],\n",
       " 0.6634920634920635)"
      ]
     },
     "execution_count": 4,
     "metadata": {},
     "output_type": "execute_result"
    }
   ],
   "source": [
    "cvgen = sklearn.model_selection.StratifiedKFold(5)\n",
    "scores = sklearn.model_selection.cross_val_score(model, data.data, data.target, cv = cvgen)\n",
    "\n",
    "list(scores), scores.mean()"
   ]
  },
  {
   "attachments": {},
   "cell_type": "markdown",
   "metadata": {},
   "source": [
    "## 3. Настройка гиперпараметров"
   ]
  },
  {
   "cell_type": "code",
   "execution_count": 5,
   "metadata": {},
   "outputs": [],
   "source": [
    "params = {  \n",
    "    'C': [ 1, 3, 5, 10, 30, 50, 100, 300, 500, 1000],\n",
    "}"
   ]
  },
  {
   "cell_type": "code",
   "execution_count": 6,
   "metadata": {},
   "outputs": [
    {
     "name": "stdout",
     "output_type": "stream",
     "text": [
      "Fitting 5 folds for each of 10 candidates, totalling 50 fits\n",
      "0.8934920634920636 {'C': 1000}\n"
     ]
    }
   ],
   "source": [
    "gs = sklearn.model_selection.GridSearchCV(model, params, scoring='accuracy', verbose=1)\n",
    "gs.fit(data.data, data.target)\n",
    "print(gs.best_score_, gs.best_params_)"
   ]
  },
  {
   "cell_type": "code",
   "execution_count": 7,
   "metadata": {},
   "outputs": [
    {
     "data": {
      "text/plain": [
       "{'mean_fit_time': array([0.00259829, 0.00220084, 0.00179996, 0.00180149, 0.00199986,\n",
       "        0.00200043, 0.00199389, 0.00220313, 0.00258574, 0.00219207]),\n",
       " 'std_fit_time': array([7.98286287e-04, 4.01020844e-04, 4.00020127e-04, 4.00791659e-04,\n",
       "        1.48510089e-06, 1.07261866e-06, 1.55773292e-05, 4.05241528e-04,\n",
       "        8.04866272e-04, 4.13170810e-04]),\n",
       " 'mean_score_time': array([0.00180125, 0.00159974, 0.00119991, 0.00139899, 0.00099912,\n",
       "        0.00120125, 0.0012136 , 0.00140433, 0.00141315, 0.00140796]),\n",
       " 'std_score_time': array([7.49925605e-04, 4.89551654e-04, 4.00567264e-04, 4.89729112e-04,\n",
       "        1.40323057e-06, 4.01926168e-04, 3.93568502e-04, 5.00681432e-04,\n",
       "        4.77490107e-04, 4.82070755e-04]),\n",
       " 'param_C': masked_array(data=[1, 3, 5, 10, 30, 50, 100, 300, 500, 1000],\n",
       "              mask=[False, False, False, False, False, False, False, False,\n",
       "                    False, False],\n",
       "        fill_value='?',\n",
       "             dtype=object),\n",
       " 'params': [{'C': 1},\n",
       "  {'C': 3},\n",
       "  {'C': 5},\n",
       "  {'C': 10},\n",
       "  {'C': 30},\n",
       "  {'C': 50},\n",
       "  {'C': 100},\n",
       "  {'C': 300},\n",
       "  {'C': 500},\n",
       "  {'C': 1000}],\n",
       " 'split0_test_score': array([0.63888889, 0.66666667, 0.69444444, 0.75      , 0.75      ,\n",
       "        0.75      , 0.75      , 0.75      , 0.88888889, 0.83333333]),\n",
       " 'split1_test_score': array([0.61111111, 0.63888889, 0.63888889, 0.66666667, 0.66666667,\n",
       "        0.69444444, 0.69444444, 0.77777778, 0.77777778, 0.86111111]),\n",
       " 'split2_test_score': array([0.63888889, 0.63888889, 0.66666667, 0.66666667, 0.63888889,\n",
       "        0.66666667, 0.69444444, 0.77777778, 0.80555556, 0.94444444]),\n",
       " 'split3_test_score': array([0.68571429, 0.77142857, 0.74285714, 0.71428571, 0.71428571,\n",
       "        0.71428571, 0.74285714, 0.85714286, 0.97142857, 0.91428571]),\n",
       " 'split4_test_score': array([0.74285714, 0.8       , 0.82857143, 0.8       , 0.8       ,\n",
       "        0.8       , 0.82857143, 0.82857143, 0.88571429, 0.91428571]),\n",
       " 'mean_test_score': array([0.66349206, 0.7031746 , 0.71428571, 0.71952381, 0.71396825,\n",
       "        0.72507937, 0.74206349, 0.79825397, 0.86587302, 0.89349206]),\n",
       " 'std_test_score': array([0.04636171, 0.06874867, 0.06666856, 0.0510302 , 0.05757465,\n",
       "        0.04626269, 0.04915768, 0.03886912, 0.06850452, 0.04031996]),\n",
       " 'rank_test_score': array([10,  9,  7,  6,  8,  5,  4,  3,  2,  1])}"
      ]
     },
     "execution_count": 7,
     "metadata": {},
     "output_type": "execute_result"
    }
   ],
   "source": [
    "gs.cv_results_"
   ]
  },
  {
   "cell_type": "code",
   "execution_count": 8,
   "metadata": {},
   "outputs": [
    {
     "data": {
      "text/plain": [
       "Text(0, 0.5, 'accuracy_score')"
      ]
     },
     "execution_count": 8,
     "metadata": {},
     "output_type": "execute_result"
    },
    {
     "data": {
      "image/png": "[encoded data removed]",
      "text/plain": [
       "<Figure size 640x480 with 1 Axes>"
      ]
     },
     "metadata": {},
     "output_type": "display_data"
    }
   ],
   "source": [
    "plt.plot(params['C'],gs.cv_results_['mean_test_score'])\n",
    "plt.xscale('log')\n",
    "plt.xlabel('C')\n",
    "plt.ylabel('accuracy_score')"
   ]
  },
  {
   "attachments": {},
   "cell_type": "markdown",
   "metadata": {},
   "source": [
    "## 4. Confusion matrix"
   ]
  },
  {
   "cell_type": "code",
   "execution_count": 9,
   "metadata": {},
   "outputs": [],
   "source": [
    "model = gs.best_estimator_.fit(X_train,y_train)\n",
    "model_preds = model.predict(X_test)"
   ]
  },
  {
   "cell_type": "code",
   "execution_count": 10,
   "metadata": {},
   "outputs": [
    {
     "data": {
      "text/plain": [
       "<AxesSubplot: >"
      ]
     },
     "execution_count": 10,
     "metadata": {},
     "output_type": "execute_result"
    },
    {
     "data": {
      "image/png": "[encoded data removed]",
      "text/plain": [
       "<Figure size 640x480 with 2 Axes>"
      ]
     },
     "metadata": {},
     "output_type": "display_data"
    }
   ],
   "source": [
    "confusion_scores = sklearn.metrics.confusion_matrix( y_test, model_preds )\n",
    "confusion_df = pd.DataFrame( confusion_scores, columns = data.target_names, index = data.target_names )\n",
    "sns.heatmap( confusion_df, annot = True  )"
   ]
  },
  {
   "attachments": {},
   "cell_type": "markdown",
   "metadata": {},
   "source": [
    "# 2. Бинарная классификация"
   ]
  },
  {
   "cell_type": "code",
   "execution_count": 11,
   "metadata": {},
   "outputs": [],
   "source": [
    "bin_data = sklearn.datasets.load_breast_cancer(as_frame=True)\n",
    "X_train_bin, X_test_bin, y_train_bin, y_test_bin = sklearn.model_selection.train_test_split(bin_data.data, bin_data.target, random_state = 42)"
   ]
  },
  {
   "cell_type": "code",
   "execution_count": 12,
   "metadata": {},
   "outputs": [],
   "source": [
    "from sklearn.metrics import accuracy_score, f1_score, precision_score, recall_score,confusion_matrix;\n",
    "def MdMetrics(predictions, y_test):\n",
    "    print(\"Accuracy: \",accuracy_score(np.array(y_test),predictions));\n",
    "    print(\"Precision: \",precision_score(np.array(y_test),predictions, average = 'macro',zero_division=0))\n",
    "    print(\"Recall: \", recall_score(np.array(y_test), predictions,average = 'macro'))\n",
    "    print(\"F1: \", f1_score(np.array(y_test), predictions,average = 'macro'))\n",
    "    sns.heatmap(confusion_matrix(np.array(y_test),predictions),cmap = 'viridis', annot=True)"
   ]
  },
  {
   "cell_type": "code",
   "execution_count": 13,
   "metadata": {},
   "outputs": [
    {
     "name": "stdout",
     "output_type": "stream",
     "text": [
      "Accuracy:  0.951048951048951\n",
      "Precision:  0.9578810247503257\n",
      "Recall:  0.9388264669163545\n",
      "F1:  0.9468937344156189\n"
     ]
    },
    {
     "data": {
      "image/png": "[encoded data removed]",
      "text/plain": [
       "<Figure size 640x480 with 2 Axes>"
      ]
     },
     "metadata": {},
     "output_type": "display_data"
    }
   ],
   "source": [
    "bin_model = sklearn.svm.SVC()\n",
    "bin_model.fit(X_train_bin,y_train_bin)\n",
    "bin_model_preds = bin_model.predict(X_test_bin)\n",
    "MdMetrics(bin_model_preds, y_test_bin)"
   ]
  },
  {
   "cell_type": "code",
   "execution_count": 14,
   "metadata": {},
   "outputs": [
    {
     "name": "stdout",
     "output_type": "stream",
     "text": [
      "              precision    recall  f1-score   support\n",
      "\n",
      "     no risk       0.98      0.89      0.93        54\n",
      " cancer risk       0.94      0.99      0.96        89\n",
      "\n",
      "    accuracy                           0.95       143\n",
      "   macro avg       0.96      0.94      0.95       143\n",
      "weighted avg       0.95      0.95      0.95       143\n",
      "\n"
     ]
    }
   ],
   "source": [
    "print( sklearn.metrics.classification_report(\n",
    "    y_test_bin, bin_model_preds, target_names=[\"no risk\", \"cancer risk\"]\n",
    ") )"
   ]
  },
  {
   "attachments": {},
   "cell_type": "markdown",
   "metadata": {},
   "source": [
    "# MinMaxSacler"
   ]
  },
  {
   "cell_type": "code",
   "execution_count": 15,
   "metadata": {},
   "outputs": [],
   "source": [
    "scaler = sklearn.preprocessing.MinMaxScaler()\n",
    "scaled_features = scaler.fit_transform(bin_data.data)\n",
    "X = pd.DataFrame(scaled_features, index=bin_data.data.index, columns = bin_data.data.columns)\n",
    "X_train_bin, X_test_bin, y_train_bin, y_test_bin = sklearn.model_selection.train_test_split(X, bin_data.target ,test_size=0.3, random_state=42)"
   ]
  },
  {
   "cell_type": "code",
   "execution_count": 16,
   "metadata": {},
   "outputs": [
    {
     "name": "stdout",
     "output_type": "stream",
     "text": [
      "Accuracy:  0.9824561403508771\n",
      "Precision:  0.9827611719443623\n",
      "Recall:  0.9794973544973544\n",
      "F1:  0.9810875576036866\n"
     ]
    },
    {
     "data": {
      "image/png": "[encoded data removed]",
      "text/plain": [
       "<Figure size 640x480 with 2 Axes>"
      ]
     },
     "metadata": {},
     "output_type": "display_data"
    }
   ],
   "source": [
    "bin_model = sklearn.svm.SVC()\n",
    "bin_model.fit(X_train_bin,y_train_bin)\n",
    "bin_model_preds = bin_model.predict(X_test_bin)\n",
    "MdMetrics(bin_model_preds, y_test_bin)"
   ]
  },
  {
   "cell_type": "code",
   "execution_count": 17,
   "metadata": {},
   "outputs": [],
   "source": [
    "scaler = sklearn.preprocessing.MinMaxScaler()\n",
    "scaled_features = scaler.fit_transform(data.data)\n",
    "X = pd.DataFrame(scaled_features, index=data.data.index, columns = data.data.columns)\n",
    "X_train, X_test, y_train, y_test = sklearn.model_selection.train_test_split(X, data.target ,test_size=0.3, random_state= 42)"
   ]
  },
  {
   "cell_type": "code",
   "execution_count": 18,
   "metadata": {},
   "outputs": [
    {
     "name": "stdout",
     "output_type": "stream",
     "text": [
      "Accuracy:  1.0\n",
      "Precision:  1.0\n",
      "Recall:  1.0\n",
      "F1:  1.0\n"
     ]
    },
    {
     "data": {
      "image/png": "[encoded data removed]",
      "text/plain": [
       "<Figure size 640x480 with 2 Axes>"
      ]
     },
     "metadata": {},
     "output_type": "display_data"
    }
   ],
   "source": [
    "model = gs.best_estimator_.fit(X_train,y_train)\n",
    "model_preds = model.predict(X_test)\n",
    "MdMetrics(model_preds, y_test)"
   ]
  },
  {
   "cell_type": "code",
   "execution_count": null,
   "metadata": {},
   "outputs": [],
   "source": []
  }
 ],
 "metadata": {
  "kernelspec": {
   "display_name": "Python 3",
   "language": "python",
   "name": "python3"
  },
  "language_info": {
   "codemirror_mode": {
    "name": "ipython",
    "version": 3
   },
   "file_extension": ".py",
   "mimetype": "text/x-python",
   "name": "python",
   "nbconvert_exporter": "python",
   "pygments_lexer": "ipython3",
   "version": "3.10.7"
  },
  "orig_nbformat": 4
 },
 "nbformat": 4,
 "nbformat_minor": 2
}
